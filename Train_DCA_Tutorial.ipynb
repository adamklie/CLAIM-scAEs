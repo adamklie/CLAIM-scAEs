{
 "cells": [
  {
   "cell_type": "markdown",
   "metadata": {},
   "source": [
    "# How to Train an Autoencoder for single-cell RNA-seq data\n",
    "<img src=\"imgs/DCA_paper_Fig1.png\" class=\"center\" width=500/>"
   ]
  },
  {
   "cell_type": "markdown",
   "metadata": {
    "tags": []
   },
   "source": [
    "**Authorship:**\n",
    "Adam Klie, *01/22/2022*\n",
    "***\n",
    "**Description:**\n",
    "Notebook template for building and training an deep count autoencoder (DCA) for single-cell omics analysis\n",
    "\n",
    "**Notes:**\n",
    " - **Environment:** You need a Jupyter `python3` kernel with PyTorch and Sklearn installed. [See instructions for setup here.](https://github.com/adamklie/CLAIM-scAEs#environment-setup)\n",
    " - **GPU Usage:** The default data and model used below are lightweight enough to be trained on a cpu, but if you'd like to train on a larger dataset with more parameters, we recommend opening a GPU backed notebook. If you are using the `ml_env` kernel described in the above environment setup, you simply need to run the following after logging onto the cluster:\n",
    " \n",
    " ```bash\n",
    " module load cuda10.2\n",
    "jupyter-submit -p carter-gpu -A carter-gpu -t 05-00:00:00 -c 4 -m 16G -g 1 -I\n",
    "```\n",
    "***"
   ]
  },
  {
   "cell_type": "markdown",
   "metadata": {},
   "source": [
    "# Setup Packages\n",
    "Here we load the typical base packages we will utilize throughout the exercise. We will also need to import the PyTorch library and check if we are on a GPU node."
   ]
  },
  {
   "cell_type": "code",
   "execution_count": 1,
   "metadata": {
    "ExecuteTime": {
     "end_time": "2021-04-26T06:21:06.386031Z",
     "start_time": "2021-04-26T06:21:06.224110Z"
    },
    "execution": {
     "iopub.execute_input": "2022-02-18T16:57:20.921664Z",
     "iopub.status.busy": "2022-02-18T16:57:20.921517Z",
     "iopub.status.idle": "2022-02-18T16:57:31.539878Z",
     "shell.execute_reply": "2022-02-18T16:57:31.539541Z",
     "shell.execute_reply.started": "2022-02-18T16:57:20.921619Z"
    },
    "tags": []
   },
   "outputs": [],
   "source": [
    "# Classic imports\n",
    "import pandas as pd\n",
    "import numpy as np\n",
    "import matplotlib.pyplot as plt\n",
    "\n",
    "# Set random seed\n",
    "np.random.seed(13)\n",
    "\n",
    "# Autoreload extension\n",
    "if 'autoreload' not in get_ipython().extension_manager.loaded:\n",
    "    %load_ext autoreload\n",
    "    \n",
    "%autoreload 2"
   ]
  },
  {
   "cell_type": "markdown",
   "metadata": {},
   "source": [
    "  If you are on a GPU, the function will return `True` and will tell you which GPU(s) you are using."
   ]
  },
  {
   "cell_type": "code",
   "execution_count": 2,
   "metadata": {
    "execution": {
     "iopub.execute_input": "2022-02-18T16:57:31.541468Z",
     "iopub.status.busy": "2022-02-18T16:57:31.541371Z",
     "iopub.status.idle": "2022-02-18T16:57:56.453806Z",
     "shell.execute_reply": "2022-02-18T16:57:56.453475Z",
     "shell.execute_reply.started": "2022-02-18T16:57:31.541455Z"
    },
    "tags": []
   },
   "outputs": [
    {
     "name": "stdout",
     "output_type": "stream",
     "text": [
      "Using a GPU? True\n",
      "Device number [0-7]: 0\n",
      "Device count: 1\n"
     ]
    }
   ],
   "source": [
    "import torch\n",
    "print(\"Using a GPU? {}\".format(torch.cuda.is_available()))\n",
    "if torch.cuda.is_available():\n",
    "    print(\"Device number [0-7]: {}\".format(torch.cuda.current_device()))\n",
    "    print(\"Device count: {}\".format(torch.cuda.device_count()))"
   ]
  },
  {
   "cell_type": "code",
   "execution_count": 3,
   "metadata": {
    "execution": {
     "iopub.execute_input": "2022-02-18T16:57:56.454439Z",
     "iopub.status.busy": "2022-02-18T16:57:56.454335Z",
     "iopub.status.idle": "2022-02-18T16:57:57.369057Z",
     "shell.execute_reply": "2022-02-18T16:57:57.368710Z",
     "shell.execute_reply.started": "2022-02-18T16:57:56.454425Z"
    },
    "tags": []
   },
   "outputs": [],
   "source": [
    "# You can use this variable to keep track of how many epochs you've trained a model for\n",
    "epochs_trained = 0"
   ]
  },
  {
   "cell_type": "markdown",
   "metadata": {},
   "source": [
    "# Load dataset\n",
    "Here we load the **pbmc3k** dataset. This dataset captures Peripheral Blood Mononuclear Cells (PBMC) freely available from 10X Genomics. There were originally 2,700 single cells that were sequenced on the Illumina NextSeq 500. Here we load in both the raw and normalized counts for the variable genes. See the `Collect_Datasets_and_Preprocess_DCA.ipynb` and `Collect_Cell_Type_Labels.ipynb` notebooks for more details on the dataset and the preprocessing steps applied."
   ]
  },
  {
   "cell_type": "code",
   "execution_count": 49,
   "metadata": {
    "execution": {
     "iopub.execute_input": "2022-02-18T18:26:02.367074Z",
     "iopub.status.busy": "2022-02-18T18:26:02.366908Z",
     "iopub.status.idle": "2022-02-18T18:26:04.850039Z",
     "shell.execute_reply": "2022-02-18T18:26:04.849414Z",
     "shell.execute_reply.started": "2022-02-18T18:26:02.367056Z"
    },
    "tags": []
   },
   "outputs": [
    {
     "name": "stdout",
     "output_type": "stream",
     "text": [
      "Dataset contains:\n",
      "\tRaw counts: 1870 genes across 2700 cells\n",
      "\tNormalized counts: 1870 genes across 2700 cells\n",
      "\tScale factors for: 2700 cells\n"
     ]
    }
   ],
   "source": [
    "raw_counts = np.load(\"data/pbmc3k_DCA_counts.npy\")\n",
    "norm_counts = np.load(\"data/pbmc3k_DCA.npy\")\n",
    "scale_factors = np.load(\"data/pbmc3k_sfs.npy\")\n",
    "num_cells = norm_counts.shape[0] # rows\n",
    "num_genes = norm_counts.shape[1] # columns\n",
    "\n",
    "if raw_counts.shape == norm_counts.shape and scale_factors.shape[0] == num_cells:\n",
    "    print(\"Dataset contains:\\n\" + \\\n",
    "        \"\\tRaw counts: {0} genes across {1} cells\\n\".format(num_genes, num_cells) + \\\n",
    "        \"\\tNormalized counts: {0} genes across {1} cells\\n\".format(num_genes, num_cells) + \\\n",
    "        \"\\tScale factors for: {} cells\".format(num_cells))\n",
    "else:\n",
    "    print(\"Differing number of cells or genes in raw and normlaized counts\")"
   ]
  },
  {
   "cell_type": "markdown",
   "metadata": {
    "tags": []
   },
   "source": [
    "## Instantiate the dataloader\n",
    "[DataLoaders](https://pytorch.org/tutorials/beginner/basics/data_tutorial.html) are fundamental PyTorch objects that interface the data you want to train with to the model you want to train. A DataLoader is essentially a Python iterator that can be looped through to pull \"batches\" of data at time. These \"batches\" of data are passed to the model during training. "
   ]
  },
  {
   "cell_type": "code",
   "execution_count": 5,
   "metadata": {
    "execution": {
     "iopub.execute_input": "2022-02-18T16:59:14.965866Z",
     "iopub.status.busy": "2022-02-18T16:59:14.965700Z",
     "iopub.status.idle": "2022-02-18T16:59:15.722661Z",
     "shell.execute_reply": "2022-02-18T16:59:15.722300Z",
     "shell.execute_reply.started": "2022-02-18T16:59:14.965850Z"
    },
    "tags": []
   },
   "outputs": [],
   "source": [
    "from torch.utils.data import TensorDataset, DataLoader"
   ]
  },
  {
   "cell_type": "code",
   "execution_count": 6,
   "metadata": {
    "ExecuteTime": {
     "end_time": "2021-05-20T16:11:24.609119Z",
     "start_time": "2021-05-20T16:11:24.590436Z"
    },
    "execution": {
     "iopub.execute_input": "2022-02-18T16:59:16.351368Z",
     "iopub.status.busy": "2022-02-18T16:59:16.351161Z",
     "iopub.status.idle": "2022-02-18T16:59:17.243403Z",
     "shell.execute_reply": "2022-02-18T16:59:17.242923Z",
     "shell.execute_reply.started": "2022-02-18T16:59:16.351341Z"
    },
    "tags": []
   },
   "outputs": [],
   "source": [
    "# Build a TensorDataset object from the scaled array, note that PyTorch likes Tensors, not numpy arrays\n",
    "dataset = TensorDataset(torch.from_numpy(raw_counts), torch.from_numpy(norm_counts), torch.from_numpy(scale_factors))"
   ]
  },
  {
   "cell_type": "code",
   "execution_count": 7,
   "metadata": {
    "ExecuteTime": {
     "end_time": "2021-05-20T16:11:57.471895Z",
     "start_time": "2021-05-20T16:11:57.302899Z"
    },
    "execution": {
     "iopub.execute_input": "2022-02-18T16:59:17.789967Z",
     "iopub.status.busy": "2022-02-18T16:59:17.789835Z",
     "iopub.status.idle": "2022-02-18T16:59:18.632299Z",
     "shell.execute_reply": "2022-02-18T16:59:18.631804Z",
     "shell.execute_reply.started": "2022-02-18T16:59:17.789951Z"
    },
    "tags": []
   },
   "outputs": [],
   "source": [
    "# Build a simple DataLoaders from the Dataset object\n",
    "loader = DataLoader(dataset, batch_size=256, shuffle=False)"
   ]
  },
  {
   "cell_type": "code",
   "execution_count": 8,
   "metadata": {
    "ExecuteTime": {
     "end_time": "2021-05-20T16:11:58.556687Z",
     "start_time": "2021-05-20T16:11:58.534431Z"
    },
    "execution": {
     "iopub.execute_input": "2022-02-18T16:59:18.633112Z",
     "iopub.status.busy": "2022-02-18T16:59:18.633002Z",
     "iopub.status.idle": "2022-02-18T16:59:19.488028Z",
     "shell.execute_reply": "2022-02-18T16:59:19.487536Z",
     "shell.execute_reply.started": "2022-02-18T16:59:18.633098Z"
    },
    "tags": []
   },
   "outputs": [
    {
     "name": "stdout",
     "output_type": "stream",
     "text": [
      "Dimensions of training set: 2700 x torch.Size([1870])\n"
     ]
    }
   ],
   "source": [
    "# Check dims of loaders for correctness (should match n_cells x torch.Size(n_genes))\n",
    "print(\"Dimensions of training set: {} x {}\".format(len(loader.dataset), loader.dataset[0][0].shape))"
   ]
  },
  {
   "cell_type": "code",
   "execution_count": 9,
   "metadata": {
    "execution": {
     "iopub.execute_input": "2022-02-18T16:59:19.488907Z",
     "iopub.status.busy": "2022-02-18T16:59:19.488794Z",
     "iopub.status.idle": "2022-02-18T16:59:20.664632Z",
     "shell.execute_reply": "2022-02-18T16:59:20.664190Z",
     "shell.execute_reply.started": "2022-02-18T16:59:19.488892Z"
    },
    "tags": []
   },
   "outputs": [
    {
     "data": {
      "text/plain": [
       "(tensor([0., 0., 0.,  ..., 1., 0., 4.]),\n",
       " tensor([-0.7581, -0.2309, -0.2530,  ...,  0.3737, -0.2988,  0.1337]),\n",
       " tensor(1.1020))"
      ]
     },
     "execution_count": 9,
     "metadata": {},
     "output_type": "execute_result"
    }
   ],
   "source": [
    "# Test a yield, should be raw counts, normalized and z-scored counts and scale factors\n",
    "loader.dataset[0]"
   ]
  },
  {
   "cell_type": "markdown",
   "metadata": {
    "tags": []
   },
   "source": [
    "# The autoencoder model\n",
    "Here we initialize a predefined autoencoder architecture (see `autoencoders.py`). The encoder's job is to take an input vector and output a lower-dimensional latent embedding; the decoder does the opposite, taking the latent embedding to reconstruct/output the input vector. The decoder architecture is a mirror of the encoder's. The input size of the encoder corresponds to the dimensions of our features (variable genes) and outputs a latent embedding of size 10. \n",
    "\n",
    "We initialize the weights using a Kaiming Uniform or He initialization (see `init_weights.py`). Each linear layer is activated with the ReLU function."
   ]
  },
  {
   "cell_type": "markdown",
   "metadata": {
    "tags": []
   },
   "source": [
    "<div class=\"alert alert-block alert-info\">\n",
    "<b>TODO</b>\n",
    "\n",
    "We provide the most basic autoencoder architecture here. This is your opportunity to explore parameters i.e. the number of hidden layers, the width per layer, etc. or try something completely different!\n",
    "</div>"
   ]
  },
  {
   "cell_type": "code",
   "execution_count": 10,
   "metadata": {
    "execution": {
     "iopub.execute_input": "2022-02-18T16:59:26.334061Z",
     "iopub.status.busy": "2022-02-18T16:59:26.333933Z",
     "iopub.status.idle": "2022-02-18T17:00:56.707458Z",
     "shell.execute_reply": "2022-02-18T17:00:56.706950Z",
     "shell.execute_reply.started": "2022-02-18T16:59:26.334041Z"
    },
    "tags": []
   },
   "outputs": [],
   "source": [
    "# Load predefined model and weight initializer\n",
    "from scripts.utils import init_weights\n",
    "from scripts.dca import DCA"
   ]
  },
  {
   "cell_type": "code",
   "execution_count": 14,
   "metadata": {
    "execution": {
     "iopub.execute_input": "2022-02-18T17:02:06.683705Z",
     "iopub.status.busy": "2022-02-18T17:02:06.683544Z",
     "iopub.status.idle": "2022-02-18T17:02:08.787195Z",
     "shell.execute_reply": "2022-02-18T17:02:08.786884Z",
     "shell.execute_reply.started": "2022-02-18T17:02:06.683689Z"
    },
    "tags": []
   },
   "outputs": [
    {
     "name": "stdout",
     "output_type": "stream",
     "text": [
      "Executing the model on: cuda\n"
     ]
    },
    {
     "data": {
      "text/plain": [
       "DCA(\n",
       "  (encoder): Sequential(\n",
       "    (0): Linear(in_features=1870, out_features=512, bias=True)\n",
       "    (1): ReLU()\n",
       "    (2): Linear(in_features=512, out_features=128, bias=True)\n",
       "    (3): ReLU()\n",
       "    (4): Linear(in_features=128, out_features=2, bias=True)\n",
       "  )\n",
       "  (decoder): Sequential(\n",
       "    (0): Linear(in_features=2, out_features=128, bias=True)\n",
       "    (1): ReLU()\n",
       "    (2): Linear(in_features=128, out_features=512, bias=True)\n",
       "    (3): ReLU()\n",
       "  )\n",
       "  (pi): Linear(in_features=512, out_features=1870, bias=True)\n",
       "  (mean): Linear(in_features=512, out_features=1870, bias=True)\n",
       "  (disp): Linear(in_features=512, out_features=1870, bias=True)\n",
       ")"
      ]
     },
     "execution_count": 14,
     "metadata": {},
     "output_type": "execute_result"
    }
   ],
   "source": [
    "# Instantiate model and move to gpu if available\n",
    "model = DCA(norm_counts.shape[1], hidden=2)\n",
    "model.apply(init_weights)\n",
    "device = torch.device('cuda' if torch.cuda.is_available() else 'cpu')\n",
    "print(\"Executing the model on:\", device)\n",
    "model.to(device)"
   ]
  },
  {
   "cell_type": "markdown",
   "metadata": {},
   "source": [
    "Let's check what our model looks like, using a handy summary function."
   ]
  },
  {
   "cell_type": "code",
   "execution_count": 15,
   "metadata": {
    "execution": {
     "iopub.execute_input": "2022-02-18T17:02:08.788901Z",
     "iopub.status.busy": "2022-02-18T17:02:08.788790Z",
     "iopub.status.idle": "2022-02-18T17:02:11.015474Z",
     "shell.execute_reply": "2022-02-18T17:02:11.014997Z",
     "shell.execute_reply.started": "2022-02-18T17:02:08.788887Z"
    },
    "tags": []
   },
   "outputs": [],
   "source": [
    "from torchinfo import summary"
   ]
  },
  {
   "cell_type": "code",
   "execution_count": 16,
   "metadata": {
    "execution": {
     "iopub.execute_input": "2022-02-18T17:02:11.016419Z",
     "iopub.status.busy": "2022-02-18T17:02:11.016304Z",
     "iopub.status.idle": "2022-02-18T17:02:13.684492Z",
     "shell.execute_reply": "2022-02-18T17:02:13.684094Z",
     "shell.execute_reply.started": "2022-02-18T17:02:11.016405Z"
    },
    "tags": []
   },
   "outputs": [
    {
     "data": {
      "text/plain": [
       "==========================================================================================\n",
       "Layer (type:depth-idx)                   Output Shape              Param #\n",
       "==========================================================================================\n",
       "DCA                                      --                        --\n",
       "├─Sequential: 1-1                        [256, 2]                  --\n",
       "│    └─Linear: 2-1                       [256, 512]                957,952\n",
       "│    └─ReLU: 2-2                         [256, 512]                --\n",
       "│    └─Linear: 2-3                       [256, 128]                65,664\n",
       "│    └─ReLU: 2-4                         [256, 128]                --\n",
       "│    └─Linear: 2-5                       [256, 2]                  258\n",
       "├─Sequential: 1-2                        [256, 512]                --\n",
       "│    └─Linear: 2-6                       [256, 128]                384\n",
       "│    └─ReLU: 2-7                         [256, 128]                --\n",
       "│    └─Linear: 2-8                       [256, 512]                66,048\n",
       "│    └─ReLU: 2-9                         [256, 512]                --\n",
       "├─Linear: 1-3                            [256, 1870]               959,310\n",
       "├─Linear: 1-4                            [256, 1870]               959,310\n",
       "├─Linear: 1-5                            [256, 1870]               959,310\n",
       "==========================================================================================\n",
       "Total params: 3,968,236\n",
       "Trainable params: 3,968,236\n",
       "Non-trainable params: 0\n",
       "Total mult-adds (G): 1.02\n",
       "==========================================================================================\n",
       "Input size (MB): 1.91\n",
       "Forward/backward pass size (MB): 14.11\n",
       "Params size (MB): 15.87\n",
       "Estimated Total Size (MB): 31.90\n",
       "=========================================================================================="
      ]
     },
     "execution_count": 16,
     "metadata": {},
     "output_type": "execute_result"
    }
   ],
   "source": [
    "# We will assume a batch size of 256. \n",
    "# The summary function expects you to include the expected input size as a parameter along with a batch size\n",
    "summary(model, input_size=(256, num_genes))"
   ]
  },
  {
   "cell_type": "markdown",
   "metadata": {},
   "source": [
    "Next let's test out our autoencoder structure with our initialized parameters. You can use the following code block to check to see if things are being output the way you would expect. By default, the encoded dimension size should be 10 and the size of the decoded dimesion should match the variable genes."
   ]
  },
  {
   "cell_type": "code",
   "execution_count": 17,
   "metadata": {
    "execution": {
     "iopub.execute_input": "2022-02-18T17:02:13.685215Z",
     "iopub.status.busy": "2022-02-18T17:02:13.685106Z",
     "iopub.status.idle": "2022-02-18T17:02:16.410597Z",
     "shell.execute_reply": "2022-02-18T17:02:16.410297Z",
     "shell.execute_reply.started": "2022-02-18T17:02:13.685200Z"
    },
    "tags": []
   },
   "outputs": [
    {
     "name": "stdout",
     "output_type": "stream",
     "text": [
      "Encoder output dimension: 2\n",
      "Decoder output dimension: 1870\n"
     ]
    }
   ],
   "source": [
    "# Grab some seqs and outputs to test out on\n",
    "indexes = np.random.choice(norm_counts.shape[1], size=5)\n",
    "random_cells = torch.from_numpy(norm_counts[indexes]).float().to(device)\n",
    "\n",
    "# Feed through encoder and to get bottleneck size\n",
    "encoded_outputs = model.encoder(random_cells).squeeze(dim=1)\n",
    "\n",
    "# Feed through encoder and decoder to get full output size\n",
    "outputs = model(random_cells)[0].squeeze(dim=1)\n",
    "print(\"Encoder output dimension: {}\\nDecoder output dimension: {}\".format(encoded_outputs.shape[1], outputs.shape[1]))"
   ]
  },
  {
   "cell_type": "markdown",
   "metadata": {
    "tags": []
   },
   "source": [
    "# Set training optimization parameters\n",
    "\n",
    "Before we train our model, we need to instantiate a loss function that we are aiming to optimize and an algorithm for conducting that optimization. Here we use **MSE loss** to model the reconstruction of gene expression counts, and optimize using the **adaptive momentum (Adam) algorithm**. MSE and Adam are popular in deep learning (don't worry, I'm no DanQ), but feel free to play with others or define your own!"
   ]
  },
  {
   "cell_type": "markdown",
   "metadata": {},
   "source": [
    "<div class=\"alert alert-block alert-info\">\n",
    "<b>TODO</b>\n",
    "    \n",
    "Try out different optimization strategies and loss functions. This is general to neural networks and not specific to autoencoders, but still an important set of hyperparameters to consider.\n",
    "\n",
    " - PyTorch optimizers: https://pytorch.org/docs/stable/optim.html\n",
    " - PyTorch loss functions: https://pytorch.org/docs/stable/nn.html#loss-functions\n",
    "</div>"
   ]
  },
  {
   "cell_type": "code",
   "execution_count": 18,
   "metadata": {
    "execution": {
     "iopub.execute_input": "2022-02-18T17:02:20.563125Z",
     "iopub.status.busy": "2022-02-18T17:02:20.562964Z",
     "iopub.status.idle": "2022-02-18T17:02:23.140239Z",
     "shell.execute_reply": "2022-02-18T17:02:23.139798Z",
     "shell.execute_reply.started": "2022-02-18T17:02:20.563109Z"
    },
    "tags": []
   },
   "outputs": [],
   "source": [
    "import torch.nn as nn\n",
    "from scripts.dca import ZINBLoss"
   ]
  },
  {
   "cell_type": "code",
   "execution_count": 26,
   "metadata": {
    "execution": {
     "iopub.execute_input": "2022-02-18T17:07:37.653162Z",
     "iopub.status.busy": "2022-02-18T17:07:37.653006Z",
     "iopub.status.idle": "2022-02-18T17:07:39.072730Z",
     "shell.execute_reply": "2022-02-18T17:07:39.072297Z",
     "shell.execute_reply.started": "2022-02-18T17:07:37.653146Z"
    },
    "tags": []
   },
   "outputs": [],
   "source": [
    "# Define the optimizer, filter just gaurentees that optimized doesn't try to optimized a parameter it shouldn't\n",
    "optimizer = torch.optim.Adam(filter(lambda p: p.requires_grad, model.parameters()), lr=0.0001, amsgrad=True)"
   ]
  },
  {
   "cell_type": "code",
   "execution_count": 22,
   "metadata": {
    "execution": {
     "iopub.execute_input": "2022-02-18T17:06:50.563722Z",
     "iopub.status.busy": "2022-02-18T17:06:50.563560Z",
     "iopub.status.idle": "2022-02-18T17:06:52.181638Z",
     "shell.execute_reply": "2022-02-18T17:06:52.181229Z",
     "shell.execute_reply.started": "2022-02-18T17:06:50.563706Z"
    },
    "tags": []
   },
   "outputs": [
    {
     "data": {
      "text/plain": [
       "ZINBLoss()"
      ]
     },
     "execution_count": 22,
     "metadata": {},
     "output_type": "execute_result"
    }
   ],
   "source": [
    "# Define the loss function\n",
    "criterion = ZINBLoss().to(device)"
   ]
  },
  {
   "cell_type": "markdown",
   "metadata": {
    "execution": {
     "iopub.execute_input": "2022-02-16T19:03:20.814940Z",
     "iopub.status.busy": "2022-02-16T19:03:20.814734Z",
     "iopub.status.idle": "2022-02-16T19:03:23.222641Z",
     "shell.execute_reply": "2022-02-16T19:03:23.222142Z",
     "shell.execute_reply.started": "2022-02-16T19:03:20.814922Z"
    },
    "tags": []
   },
   "source": [
    "# Test out the configuration of DCA\n",
    "This model is a little more complex than the Vanilla AE we previously implemented. So we just want to run some sanity checks to make sure things are behaving as expected."
   ]
  },
  {
   "cell_type": "code",
   "execution_count": 50,
   "metadata": {
    "execution": {
     "iopub.execute_input": "2022-02-18T18:54:09.664768Z",
     "iopub.status.busy": "2022-02-18T18:54:09.664523Z",
     "iopub.status.idle": "2022-02-18T18:54:11.483256Z",
     "shell.execute_reply": "2022-02-18T18:54:11.482774Z",
     "shell.execute_reply.started": "2022-02-18T18:54:09.664740Z"
    }
   },
   "outputs": [],
   "source": [
    "from scripts.dca import test_config"
   ]
  },
  {
   "cell_type": "code",
   "execution_count": 55,
   "metadata": {
    "execution": {
     "iopub.execute_input": "2022-02-18T18:57:23.168351Z",
     "iopub.status.busy": "2022-02-18T18:57:23.168179Z",
     "iopub.status.idle": "2022-02-18T18:57:25.478026Z",
     "shell.execute_reply": "2022-02-18T18:57:25.477716Z",
     "shell.execute_reply.started": "2022-02-18T18:57:23.168334Z"
    },
    "tags": []
   },
   "outputs": [
    {
     "name": "stdout",
     "output_type": "stream",
     "text": [
      "Loss before test optimization: 0.30529457330703735\n",
      "There are gradients and they have changed\n",
      "Parameters have changed\n",
      "Loss after test optimization: tensor(0.2864, device='cuda:0', grad_fn=<MeanBackward0>)\n",
      "Did it go down?\n"
     ]
    }
   ],
   "source": [
    "test_config(model=model, dataloader=loader, criterion=criterion, optimizer=optimizer, device=device)"
   ]
  },
  {
   "cell_type": "markdown",
   "metadata": {},
   "source": [
    "# Train the model\n",
    "Here we actually optimize our defined loss function via our autoencoder inputs and reconstructions. We are making use of a training function designed for autoencoders that can be found in the `train.py` file. We will also use the livelossplot package to visualize our loss across training. If all goes well, you should see loss decrease at each epoch (aka iteration through the dataset), something along the lines of:\n",
    "\n",
    "![loss_plot](imgs/example_loss.png)"
   ]
  },
  {
   "cell_type": "markdown",
   "metadata": {
    "execution": {
     "iopub.execute_input": "2022-02-02T20:22:32.243256Z",
     "iopub.status.busy": "2022-02-02T20:22:32.243059Z",
     "iopub.status.idle": "2022-02-02T20:22:32.293273Z",
     "shell.execute_reply": "2022-02-02T20:22:32.292815Z",
     "shell.execute_reply.started": "2022-02-02T20:22:32.243204Z"
    }
   },
   "source": [
    "<div class=\"alert alert-block alert-info\">\n",
    "<b>TODO: Make-it-train!</b>\n",
    "    \n",
    "Define the number of epochs and how often to update the loss plot (default every 10 epochs). Note that updating too often will slow down training.\n",
    "<hr>\n",
    "<b>A note on training time:</b>\n",
    "    \n",
    "Using the given dataset, model architecture and learning rate, training is very fast. We were able to train a model for 1000 epochs in less than a minute on a GPU!\n",
    "</div>"
   ]
  },
  {
   "cell_type": "code",
   "execution_count": 23,
   "metadata": {
    "execution": {
     "iopub.execute_input": "2022-02-18T17:07:13.563272Z",
     "iopub.status.busy": "2022-02-18T17:07:13.563107Z",
     "iopub.status.idle": "2022-02-18T17:07:15.350250Z",
     "shell.execute_reply": "2022-02-18T17:07:15.349815Z",
     "shell.execute_reply.started": "2022-02-18T17:07:13.563257Z"
    },
    "tags": []
   },
   "outputs": [],
   "source": [
    "from scripts.dca import train_DCA\n",
    "import time"
   ]
  },
  {
   "cell_type": "code",
   "execution_count": 24,
   "metadata": {
    "execution": {
     "iopub.execute_input": "2022-02-18T17:07:15.351041Z",
     "iopub.status.busy": "2022-02-18T17:07:15.350925Z",
     "iopub.status.idle": "2022-02-18T17:07:16.862121Z",
     "shell.execute_reply": "2022-02-18T17:07:16.861687Z",
     "shell.execute_reply.started": "2022-02-18T17:07:15.351027Z"
    },
    "tags": []
   },
   "outputs": [],
   "source": [
    "num_epochs = 1000\n",
    "plot_frequency = 100"
   ]
  },
  {
   "cell_type": "code",
   "execution_count": 27,
   "metadata": {
    "execution": {
     "iopub.execute_input": "2022-02-18T17:07:45.015629Z",
     "iopub.status.busy": "2022-02-18T17:07:45.015474Z",
     "iopub.status.idle": "2022-02-18T17:09:27.068822Z",
     "shell.execute_reply": "2022-02-18T17:09:27.068473Z",
     "shell.execute_reply.started": "2022-02-18T17:07:45.015613Z"
    },
    "tags": []
   },
   "outputs": [
    {
     "data": {
      "image/png": "[encoded data removed]",
      "text/plain": [
       "<Figure size 864x576 with 2 Axes>"
      ]
     },
     "metadata": {
      "needs_background": "light"
     },
     "output_type": "display_data"
    },
    {
     "name": "stdout",
     "output_type": "stream",
     "text": [
      "Loss\n",
      "\tloss             \t (min:    3.841, max:    7.425, cur:    3.841)\n",
      "Trained 1000 epochs in 100.5963 seconds\n"
     ]
    }
   ],
   "source": [
    "# Make-it-train!\n",
    "tic = time.perf_counter()\n",
    "loss_history, _ = train_DCA(model=model, \n",
    "                                    dataloader=loader, \n",
    "                                    criterion=criterion, \n",
    "                                    optimizer=optimizer,\n",
    "                                    device=device,\n",
    "                                    num_epoch=num_epochs,\n",
    "                                    plot_frequency=plot_frequency)\n",
    "toc = time.perf_counter()\n",
    "epochs_trained += num_epochs\n",
    "print(f\"Trained {num_epochs:d} epochs in {toc - tic:0.4f} seconds\")"
   ]
  },
  {
   "cell_type": "markdown",
   "metadata": {
    "execution": {
     "iopub.execute_input": "2022-01-29T03:15:43.201880Z",
     "iopub.status.busy": "2022-01-29T03:15:43.201643Z",
     "iopub.status.idle": "2022-01-29T03:15:45.325714Z",
     "shell.execute_reply": "2022-01-29T03:15:45.325245Z",
     "shell.execute_reply.started": "2022-01-29T03:15:43.201837Z"
    },
    "tags": []
   },
   "source": [
    "## Save trained model\n",
    "If you are happy with your model, save it's parameters. You can always load it in later for interpretation or to do more training."
   ]
  },
  {
   "cell_type": "code",
   "execution_count": 28,
   "metadata": {
    "execution": {
     "iopub.execute_input": "2022-02-18T17:09:51.782492Z",
     "iopub.status.busy": "2022-02-18T17:09:51.782329Z",
     "iopub.status.idle": "2022-02-18T17:09:53.623259Z",
     "shell.execute_reply": "2022-02-18T17:09:53.622788Z",
     "shell.execute_reply.started": "2022-02-18T17:09:51.782469Z"
    },
    "tags": []
   },
   "outputs": [],
   "source": [
    "import os"
   ]
  },
  {
   "cell_type": "code",
   "execution_count": 29,
   "metadata": {
    "execution": {
     "iopub.execute_input": "2022-02-18T17:09:53.624060Z",
     "iopub.status.busy": "2022-02-18T17:09:53.623947Z",
     "iopub.status.idle": "2022-02-18T17:09:55.493853Z",
     "shell.execute_reply": "2022-02-18T17:09:55.493399Z",
     "shell.execute_reply.started": "2022-02-18T17:09:53.624045Z"
    },
    "tags": []
   },
   "outputs": [],
   "source": [
    "if not os.path.exists(\"models\"):\n",
    "    os.makedirs(\"models\")\n",
    "torch.save(model.state_dict(), \"models/DCA_{}.pt\".format(epochs_trained))"
   ]
  },
  {
   "cell_type": "markdown",
   "metadata": {
    "tags": []
   },
   "source": [
    "# Visualize latent space\n",
    "We are now ready to investigate that latent space our model has learned. We leave coming up with an awesome new analysis to the user, but we wrote some code for you to generate a two dimensional visualization of your latent space using both PCA and UMAP reduction. We added cell-type labels from the [Seurat guided clustering tutorial](https://satijalab.org/seurat/articles/pbmc3k_tutorial.html). Do you see separation between Seurat's cell-type labels?"
   ]
  },
  {
   "cell_type": "markdown",
   "metadata": {},
   "source": [
    "<div class=\"alert alert-block alert-info\">\n",
    "<b>TODO: Visualize</b>\n",
    "    \n",
    "Use and modify the `visualize()` function to plot our model's embedding.\n",
    "</div>"
   ]
  },
  {
   "cell_type": "code",
   "execution_count": 30,
   "metadata": {
    "execution": {
     "iopub.execute_input": "2022-02-18T17:09:57.711388Z",
     "iopub.status.busy": "2022-02-18T17:09:57.711169Z",
     "iopub.status.idle": "2022-02-18T17:09:59.404437Z",
     "shell.execute_reply": "2022-02-18T17:09:59.404090Z",
     "shell.execute_reply.started": "2022-02-18T17:09:57.711371Z"
    },
    "tags": []
   },
   "outputs": [],
   "source": [
    "from scripts.utils import visualize"
   ]
  },
  {
   "cell_type": "code",
   "execution_count": 31,
   "metadata": {
    "execution": {
     "iopub.execute_input": "2022-02-18T17:10:05.381666Z",
     "iopub.status.busy": "2022-02-18T17:10:05.381530Z",
     "iopub.status.idle": "2022-02-18T17:10:06.736755Z",
     "shell.execute_reply": "2022-02-18T17:10:06.736305Z",
     "shell.execute_reply.started": "2022-02-18T17:10:05.381651Z"
    },
    "tags": []
   },
   "outputs": [],
   "source": [
    "latent_data = model.encoder(loader.dataset.tensors[0].float().to(device)).detach().cpu().numpy()"
   ]
  },
  {
   "cell_type": "code",
   "execution_count": 56,
   "metadata": {
    "execution": {
     "iopub.execute_input": "2022-02-18T19:02:06.859170Z",
     "iopub.status.busy": "2022-02-18T19:02:06.859005Z",
     "iopub.status.idle": "2022-02-18T19:02:09.258767Z",
     "shell.execute_reply": "2022-02-18T19:02:09.258431Z",
     "shell.execute_reply.started": "2022-02-18T19:02:06.859153Z"
    },
    "tags": []
   },
   "outputs": [],
   "source": [
    "# Get the cellids\n",
    "metadata = pd.read_csv(\"data/pbmc3k_SeuratMetadata.tsv\", sep=\"\\t\")\n",
    "cell_ids = np.loadtxt(\"data/pbmc3k_cellids.txt\", dtype=str)\n",
    "cell_ids = pd.Index([col.split(\"-\")[0] for col in cell_ids])"
   ]
  },
  {
   "cell_type": "code",
   "execution_count": 37,
   "metadata": {
    "execution": {
     "iopub.execute_input": "2022-02-18T17:17:24.927187Z",
     "iopub.status.busy": "2022-02-18T17:17:24.927078Z",
     "iopub.status.idle": "2022-02-18T17:17:27.351810Z",
     "shell.execute_reply": "2022-02-18T17:17:27.351343Z",
     "shell.execute_reply.started": "2022-02-18T17:17:24.927173Z"
    },
    "tags": []
   },
   "outputs": [],
   "source": [
    "latent_data = latent_data[pd.Index(cell_ids).isin(metadata.index)]\n",
    "cell_ids = cell_ids[pd.Index(cell_ids).isin(metadata.index)]\n",
    "if not latent_data.shape == len(cell_ids):\n",
    "    print(\"Something is rotten in the state of Denmark\")"
   ]
  },
  {
   "cell_type": "code",
   "execution_count": 42,
   "metadata": {
    "execution": {
     "iopub.execute_input": "2022-02-18T17:18:16.315054Z",
     "iopub.status.busy": "2022-02-18T17:18:16.314885Z",
     "iopub.status.idle": "2022-02-18T17:18:20.085323Z",
     "shell.execute_reply": "2022-02-18T17:18:20.084859Z",
     "shell.execute_reply.started": "2022-02-18T17:18:16.315037Z"
    },
    "tags": []
   },
   "outputs": [
    {
     "name": "stdout",
     "output_type": "stream",
     "text": [
      "Latent space is already 2 dimensions, just plotting\n"
     ]
    },
    {
     "data": {
      "image/png": "[encoded data removed]",
      "text/plain": [
       "<Figure size 576x576 with 1 Axes>"
      ]
     },
     "metadata": {
      "needs_background": "light"
     },
     "output_type": "display_data"
    }
   ],
   "source": [
    "visualize(latent_embedding=latent_data, cellids=cell_ids, metadata_file=\"data/pbmc3k_SeuratMetadata.tsv\")"
   ]
  },
  {
   "cell_type": "markdown",
   "metadata": {},
   "source": [
    "# Saving denoised counts"
   ]
  },
  {
   "cell_type": "code",
   "execution_count": 57,
   "metadata": {
    "execution": {
     "iopub.execute_input": "2022-02-18T19:05:19.875463Z",
     "iopub.status.busy": "2022-02-18T19:05:19.875298Z",
     "iopub.status.idle": "2022-02-18T19:05:21.262305Z",
     "shell.execute_reply": "2022-02-18T19:05:21.261809Z",
     "shell.execute_reply.started": "2022-02-18T19:05:19.875447Z"
    },
    "tags": []
   },
   "outputs": [],
   "source": [
    "means = model(loader.dataset.tensors[0].float().to(device))[0].detach().cpu().numpy()"
   ]
  },
  {
   "cell_type": "code",
   "execution_count": 60,
   "metadata": {
    "execution": {
     "iopub.execute_input": "2022-02-18T19:12:56.262330Z",
     "iopub.status.busy": "2022-02-18T19:12:56.262168Z",
     "iopub.status.idle": "2022-02-18T19:12:57.395597Z",
     "shell.execute_reply": "2022-02-18T19:12:57.395164Z",
     "shell.execute_reply.started": "2022-02-18T19:12:56.262314Z"
    },
    "tags": []
   },
   "outputs": [],
   "source": [
    "np.save(\"data/pbmc3k_dca\", means)"
   ]
  },
  {
   "cell_type": "markdown",
   "metadata": {},
   "source": [
    "## So how'd you do?"
   ]
  },
  {
   "cell_type": "markdown",
   "metadata": {},
   "source": [
    "Since we used Scanpy to download the data, we will start by comparing to them. Here's what Scanpy's tutorial outputs on 40 PCs, 10 nearest neighbors and default UMAP settings. They use the same preprocessing strategy we used for this tutorial."
   ]
  },
  {
   "cell_type": "markdown",
   "metadata": {},
   "source": [
    "![scanpy_pbm3k](imgs/pbmc3k_100_1.png)"
   ]
  },
  {
   "cell_type": "markdown",
   "metadata": {},
   "source": [
    "What about Seurat? They have a slightly different pipeline. These were the labels you used for you visualization as well!"
   ]
  },
  {
   "cell_type": "markdown",
   "metadata": {},
   "source": [
    "![seurat_pbm3k](imgs/pbmc3k_Seurat.png)"
   ]
  },
  {
   "cell_type": "markdown",
   "metadata": {
    "tags": [],
    "toc-hr-collapsed": true
   },
   "source": [
    "# References"
   ]
  }
 ],
 "metadata": {
  "kernelspec": {
   "display_name": "Python3 ml_env",
   "language": "python",
   "name": "ml_env"
  },
  "language_info": {
   "codemirror_mode": {
    "name": "ipython",
    "version": 3
   },
   "file_extension": ".py",
   "mimetype": "text/x-python",
   "name": "python",
   "nbconvert_exporter": "python",
   "pygments_lexer": "ipython3",
   "version": "3.8.8"
  },
  "toc": {
   "base_numbering": 1,
   "nav_menu": {},
   "number_sections": true,
   "sideBar": true,
   "skip_h1_title": false,
   "title_cell": "Table of Contents",
   "title_sidebar": "Contents",
   "toc_cell": true,
   "toc_position": {},
   "toc_section_display": true,
   "toc_window_display": false
  },
  "toc-showcode": false,
  "toc-showtags": false
 },
 "nbformat": 4,
 "nbformat_minor": 4
}
