{
 "cells": [
  {
   "cell_type": "markdown",
   "id": "90a88efe-ebb3-424c-8704-fb4ee189af2c",
   "metadata": {},
   "source": [
    "# Using Splatter to simulate scRNA-seq data"
   ]
  },
  {
   "cell_type": "markdown",
   "id": "2d058003-a667-4b45-9ddc-e47efe48e0e1",
   "metadata": {
    "tags": []
   },
   "source": [
    "**Authorship:**\n",
    "Adam Klie, *02/25/2022*\n",
    "***\n",
    "**Description:**\n",
    "Notebook to simulate scRNA-seq data with a desired list of parameters"
   ]
  },
  {
   "cell_type": "markdown",
   "id": "b448c30f-0255-4517-a0df-8360341bd3b0",
   "metadata": {},
   "source": [
    "<div class=\"alert alert-block alert-warning\">\n",
    "<b>TODOs</b>:\n",
    "<ul>\n",
    "    <b><li></li></b>\n",
    "    <b><li></li></b>\n",
    "    <b><li></li></b>\n",
    "    <b><li></li></b>\n",
    "    </ul>\n",
    "</div>"
   ]
  },
  {
   "cell_type": "markdown",
   "id": "a2a2c4a5-1dac-4dce-8e87-cb83f07de4c3",
   "metadata": {
    "execution": {
     "iopub.execute_input": "2021-09-05T21:21:18.602440Z",
     "iopub.status.busy": "2021-09-05T21:21:18.602151Z",
     "iopub.status.idle": "2021-09-05T21:21:18.606439Z",
     "shell.execute_reply": "2021-09-05T21:21:18.605256Z",
     "shell.execute_reply.started": "2021-09-05T21:21:18.602409Z"
    },
    "tags": []
   },
   "source": [
    "## Set-up"
   ]
  },
  {
   "cell_type": "code",
   "execution_count": 2,
   "id": "3ebaff6f",
   "metadata": {
    "execution": {
     "iopub.execute_input": "2022-03-01T05:48:33.642568Z",
     "iopub.status.busy": "2022-03-01T05:48:33.619998Z",
     "iopub.status.idle": "2022-03-01T05:48:50.500377Z",
     "shell.execute_reply": "2022-03-01T05:48:50.499206Z"
    },
    "tags": []
   },
   "outputs": [
    {
     "name": "stderr",
     "output_type": "stream",
     "text": [
      "Warning message:\n",
      "“package ‘Biobase’ was built under R version 4.1.2”\n"
     ]
    }
   ],
   "source": [
    "# The classics\n",
    "suppressMessages(library(splatter))"
   ]
  },
  {
   "cell_type": "markdown",
   "id": "524af904",
   "metadata": {
    "tags": []
   },
   "source": [
    "# Simulation framework"
   ]
  },
  {
   "cell_type": "code",
   "execution_count": 3,
   "id": "169ecfc3-05d5-4e18-b8f8-03c88d67f071",
   "metadata": {
    "execution": {
     "iopub.execute_input": "2022-03-01T05:48:50.503007Z",
     "iopub.status.busy": "2022-03-01T05:48:50.501898Z",
     "iopub.status.idle": "2022-03-01T05:48:50.510768Z",
     "shell.execute_reply": "2022-03-01T05:48:50.509764Z"
    },
    "tags": []
   },
   "outputs": [],
   "source": [
    "simulate <- function(nGroups=2, nGenes=200, batchCells=2000, dropout=3)\n",
    "{\n",
    "    if (nGroups > 1) method <- 'groups'\n",
    "    else             method <- 'single'\n",
    "\n",
    "    group.prob <- rep(1, nGroups) / nGroups\n",
    "    \n",
    "    # new splatter requires dropout.type\n",
    "    if ('dropout.type' %in% slotNames(newSplatParams())) {\n",
    "        if (dropout)\n",
    "            dropout.type <- 'experiment'\n",
    "        else\n",
    "            dropout.type <- 'none'\n",
    "        \n",
    "        sim <- splatSimulate(group.prob=group.prob, nGenes=nGenes, batchCells=batchCells,\n",
    "                             dropout.type=dropout.type, method=method,\n",
    "                             seed=42, dropout.shape=-1, dropout.mid=dropout)\n",
    "\n",
    "    } else {\n",
    "        sim <- splatSimulate(group.prob=group.prob, nGenes=nGenes, batchCells=batchCells,\n",
    "                             dropout.present=!dropout, method=method,\n",
    "                             seed=42, dropout.shape=-1, dropout.mid=dropout)        \n",
    "    }\n",
    "\n",
    "    counts     <- as.data.frame(t(counts(sim)))\n",
    "    truecounts <- as.data.frame(t(assays(sim)$TrueCounts))\n",
    "\n",
    "    dropout    <- assays(sim)$Dropout\n",
    "    #mode(dropout) <- 'integer'\n",
    "\n",
    "    cellinfo   <- as.data.frame(colData(sim))\n",
    "    geneinfo   <- as.data.frame(rowData(sim))\n",
    "\n",
    "    list(counts=counts,\n",
    "         cellinfo=cellinfo,\n",
    "         geneinfo=geneinfo,\n",
    "         truecounts=truecounts)\n",
    "}"
   ]
  },
  {
   "cell_type": "markdown",
   "id": "7a2367d8-88a0-4fae-9c08-5fe035e9044b",
   "metadata": {},
   "source": [
    "# Simulate two groups"
   ]
  },
  {
   "cell_type": "code",
   "execution_count": 15,
   "id": "c79e1a45-4efb-432b-ae6f-30ada2e22e19",
   "metadata": {
    "execution": {
     "iopub.execute_input": "2022-02-26T04:53:04.137707Z",
     "iopub.status.busy": "2022-02-26T04:53:04.136291Z",
     "iopub.status.idle": "2022-02-26T04:53:05.802147Z",
     "shell.execute_reply": "2022-02-26T04:53:05.800543Z"
    },
    "tags": []
   },
   "outputs": [
    {
     "name": "stderr",
     "output_type": "stream",
     "text": [
      "Getting parameters...\n",
      "\n",
      "Creating simulation object...\n",
      "\n",
      "Simulating library sizes...\n",
      "\n",
      "Simulating gene means...\n",
      "\n",
      "Simulating group DE...\n",
      "\n",
      "Simulating cell means...\n",
      "\n",
      "Simulating BCV...\n",
      "\n",
      "Simulating counts...\n",
      "\n",
      "Simulating dropout (if needed)...\n",
      "\n",
      "Sparsifying assays...\n",
      "\n",
      "Automatically converting to sparse matrices, threshold = 0.95\n",
      "\n",
      "Skipping 'BatchCellMeans': estimated sparse size 1.5 * dense matrix\n",
      "\n",
      "Skipping 'BaseCellMeans': estimated sparse size 1.5 * dense matrix\n",
      "\n",
      "Skipping 'BCV': estimated sparse size 1.5 * dense matrix\n",
      "\n",
      "Skipping 'CellMeans': estimated sparse size 1.5 * dense matrix\n",
      "\n",
      "Skipping 'TrueCounts': estimated sparse size 2.79 * dense matrix\n",
      "\n",
      "Skipping 'DropProb': estimated sparse size 1.5 * dense matrix\n",
      "\n",
      "Converting 'Dropout' to sparse matrix: estimated sparse size 0.7 * dense matrix\n",
      "\n",
      "Skipping 'counts': estimated sparse size 1.95 * dense matrix\n",
      "\n",
      "Done!\n",
      "\n"
     ]
    }
   ],
   "source": [
    "sim <- simulate()\n",
    "\n",
    "counts <- sim$counts\n",
    "geneinfo <- sim$geneinfo\n",
    "cellinfo <- sim$cellinfo\n",
    "truecounts <- sim$truecounts"
   ]
  },
  {
   "cell_type": "code",
   "execution_count": 16,
   "id": "8e693562-cffc-4996-b51b-6b3978c71df7",
   "metadata": {
    "execution": {
     "iopub.execute_input": "2022-02-26T04:53:12.136558Z",
     "iopub.status.busy": "2022-02-26T04:53:12.135104Z",
     "iopub.status.idle": "2022-02-26T04:53:12.780434Z",
     "shell.execute_reply": "2022-02-26T04:53:12.778754Z"
    },
    "tags": []
   },
   "outputs": [],
   "source": [
    "# Save as {group}.{numCells}.{numGenes}.{dropout}\n",
    "write.table(counts, \"simulated/counts.2.2000.200.3.tsv\", sep = \"\\t\")\n",
    "write.table(truecounts, \"simulated/truecounts.2.2000.200.3.tsv\", sep = \"\\t\")\n",
    "write.table(geneinfo, \"simulated/geneinfo.2.2000.200.3.tsv\", sep = \"\\t\")\n",
    "write.table(cellinfo, \"simulated/cellinfo.2.2000.200.3.tsv\", sep = \"\\t\")"
   ]
  },
  {
   "cell_type": "markdown",
   "id": "96700a7a-e04f-42c1-bcc2-58281a8dc1f5",
   "metadata": {},
   "source": [
    "# Simulate six groups"
   ]
  },
  {
   "cell_type": "code",
   "execution_count": 17,
   "id": "e2c78a95-07df-42c3-9fa5-47f2877ffe3d",
   "metadata": {
    "execution": {
     "iopub.execute_input": "2022-02-26T04:53:21.136310Z",
     "iopub.status.busy": "2022-02-26T04:53:21.134912Z",
     "iopub.status.idle": "2022-02-26T04:53:22.798973Z",
     "shell.execute_reply": "2022-02-26T04:53:22.797353Z"
    },
    "tags": []
   },
   "outputs": [
    {
     "name": "stderr",
     "output_type": "stream",
     "text": [
      "Getting parameters...\n",
      "\n",
      "Creating simulation object...\n",
      "\n",
      "Simulating library sizes...\n",
      "\n",
      "Simulating gene means...\n",
      "\n",
      "Simulating group DE...\n",
      "\n",
      "Simulating cell means...\n",
      "\n",
      "Simulating BCV...\n",
      "\n",
      "Simulating counts...\n",
      "\n",
      "Simulating dropout (if needed)...\n",
      "\n",
      "Sparsifying assays...\n",
      "\n",
      "Automatically converting to sparse matrices, threshold = 0.95\n",
      "\n",
      "Skipping 'BatchCellMeans': estimated sparse size 1.5 * dense matrix\n",
      "\n",
      "Skipping 'BaseCellMeans': estimated sparse size 1.5 * dense matrix\n",
      "\n",
      "Skipping 'BCV': estimated sparse size 1.5 * dense matrix\n",
      "\n",
      "Skipping 'CellMeans': estimated sparse size 1.5 * dense matrix\n",
      "\n",
      "Skipping 'TrueCounts': estimated sparse size 2.79 * dense matrix\n",
      "\n",
      "Skipping 'DropProb': estimated sparse size 1.5 * dense matrix\n",
      "\n",
      "Converting 'Dropout' to sparse matrix: estimated sparse size 0.32 * dense matrix\n",
      "\n",
      "Skipping 'counts': estimated sparse size 2.5 * dense matrix\n",
      "\n",
      "Done!\n",
      "\n"
     ]
    }
   ],
   "source": [
    "sim <- simulate(nGroups=6, dropout=1)\n",
    "\n",
    "counts <- sim$counts\n",
    "geneinfo <- sim$geneinfo\n",
    "cellinfo <- sim$cellinfo\n",
    "truecounts <- sim$truecounts"
   ]
  },
  {
   "cell_type": "code",
   "execution_count": 18,
   "id": "43195b8d-c993-409a-acbe-0ecb2d521436",
   "metadata": {
    "execution": {
     "iopub.execute_input": "2022-02-26T04:53:50.136586Z",
     "iopub.status.busy": "2022-02-26T04:53:50.135114Z",
     "iopub.status.idle": "2022-02-26T04:53:50.789664Z",
     "shell.execute_reply": "2022-02-26T04:53:50.787983Z"
    },
    "tags": []
   },
   "outputs": [],
   "source": [
    "# Save as {group}.{numCells}.{numGenes}.{dropout}\n",
    "write.table(counts, \"simulated/counts.6.2000.200.1.tsv\", sep = \"\\t\")\n",
    "write.table(truecounts, \"simulated/truecounts.6.2000.200.1.tsv\", sep = \"\\t\")\n",
    "write.table(geneinfo, \"simulated/geneinfo.6.2000.200.1.tsv\", sep = \"\\t\")\n",
    "write.table(cellinfo, \"simulated/cellinfo.6.2000.200.1.tsv\", sep = \"\\t\")"
   ]
  },
  {
   "cell_type": "markdown",
   "id": "8cd835e3-38a6-4c32-b06b-0474912bb1aa",
   "metadata": {},
   "source": [
    "# Simulate a GRN"
   ]
  },
  {
   "cell_type": "markdown",
   "id": "ed7ffd88-94c2-45f2-ad87-9f255e8073ff",
   "metadata": {},
   "source": [
    "# References"
   ]
  },
  {
   "cell_type": "markdown",
   "id": "349f7afc-82b3-4585-b3b1-c76285a35446",
   "metadata": {
    "execution": {
     "iopub.execute_input": "2022-02-24T21:44:10.042661Z",
     "iopub.status.busy": "2022-02-24T21:44:10.040615Z",
     "iopub.status.idle": "2022-02-24T21:44:10.060623Z",
     "shell.execute_reply": "2022-02-24T21:44:10.058376Z"
    }
   },
   "source": [
    "1. [Splatter Github](https://github.com/Oshlack/splatter)"
   ]
  }
 ],
 "metadata": {
  "kernelspec": {
   "display_name": "R4 Renv Development",
   "language": "R",
   "name": "renvdev"
  },
  "language_info": {
   "codemirror_mode": "r",
   "file_extension": ".r",
   "mimetype": "text/x-r-source",
   "name": "R",
   "pygments_lexer": "r",
   "version": "4.1.1"
  }
 },
 "nbformat": 4,
 "nbformat_minor": 5
}
