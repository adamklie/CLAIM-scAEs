{
 "cells": [
  {
   "cell_type": "markdown",
   "id": "90a88efe-ebb3-424c-8704-fb4ee189af2c",
   "metadata": {},
   "source": [
    "# Benchmarking MARS autoencoder"
   ]
  },
  {
   "cell_type": "markdown",
   "id": "2d058003-a667-4b45-9ddc-e47efe48e0e1",
   "metadata": {
    "tags": []
   },
   "source": [
    "**Authorship:**\n",
    "Adam Klie, *02/26/2022*\n",
    "***\n",
    "**Description:**\n",
    "Notebook for benchmarking MARS on simulated data"
   ]
  },
  {
   "cell_type": "markdown",
   "id": "761ad2d5-0d1c-457e-953c-d23c080a5be8",
   "metadata": {},
   "source": [
    "<div class=\"alert alert-block alert-warning\">\n",
    "<b>TODOs</b>:\n",
    "<ul>\n",
    "    <b><li>Try this out on pancreatic islets using a set of reference datasets</li></b>\n",
    "    <b><li></li></b>\n",
    "    <b><li></li></b>\n",
    "    <b><li></li></b>\n",
    "    </ul>\n",
    "</div>"
   ]
  },
  {
   "cell_type": "markdown",
   "id": "a2a2c4a5-1dac-4dce-8e87-cb83f07de4c3",
   "metadata": {
    "execution": {
     "iopub.execute_input": "2021-09-05T21:21:18.602440Z",
     "iopub.status.busy": "2021-09-05T21:21:18.602151Z",
     "iopub.status.idle": "2021-09-05T21:21:18.606439Z",
     "shell.execute_reply": "2021-09-05T21:21:18.605256Z",
     "shell.execute_reply.started": "2021-09-05T21:21:18.602409Z"
    },
    "tags": []
   },
   "source": [
    "## Set-up"
   ]
  },
  {
   "cell_type": "code",
   "execution_count": 24,
   "id": "3ebaff6f",
   "metadata": {
    "execution": {
     "iopub.execute_input": "2022-02-26T20:28:59.568036Z",
     "iopub.status.busy": "2022-02-26T20:28:59.567868Z",
     "iopub.status.idle": "2022-02-26T20:29:00.516364Z",
     "shell.execute_reply": "2022-02-26T20:29:00.515931Z",
     "shell.execute_reply.started": "2022-02-26T20:28:59.568017Z"
    },
    "tags": []
   },
   "outputs": [],
   "source": [
    "# The classics\n",
    "import sys\n",
    "import pandas as pd\n",
    "import numpy as np\n",
    "\n",
    "# Others needed\n",
    "import torch\n",
    "import scanpy as sc\n",
    "\n",
    "# Autoreload extension\n",
    "if 'autoreload' not in get_ipython().extension_manager.loaded:\n",
    "    %load_ext autoreload\n",
    "%autoreload 2"
   ]
  },
  {
   "cell_type": "code",
   "execution_count": 49,
   "id": "081f635f-ef42-4853-835d-5c675141c9c8",
   "metadata": {
    "execution": {
     "iopub.execute_input": "2022-02-26T20:42:34.667497Z",
     "iopub.status.busy": "2022-02-26T20:42:34.667323Z",
     "iopub.status.idle": "2022-02-26T20:42:35.485920Z",
     "shell.execute_reply": "2022-02-26T20:42:35.485441Z",
     "shell.execute_reply.started": "2022-02-26T20:42:34.667473Z"
    },
    "tags": []
   },
   "outputs": [],
   "source": [
    "# Get the functions needed from the MARS codebase\n",
    "sys.path.append(\"/cellar/users/aklie/opt/mars\")\n",
    "from model.experiment_dataset import ExperimentDataset\n",
    "from model.mars import MARS\n",
    "from args_parser import get_parser"
   ]
  },
  {
   "cell_type": "code",
   "execution_count": 4,
   "id": "9d619c87-dc54-4bbe-91cb-1d4e55cab9dd",
   "metadata": {
    "execution": {
     "iopub.execute_input": "2022-02-26T20:20:47.520174Z",
     "iopub.status.busy": "2022-02-26T20:20:47.520006Z",
     "iopub.status.idle": "2022-02-26T20:20:47.871412Z",
     "shell.execute_reply": "2022-02-26T20:20:47.870972Z",
     "shell.execute_reply.started": "2022-02-26T20:20:47.520155Z"
    },
    "tags": []
   },
   "outputs": [],
   "source": [
    "# Check if cuda is available and set the device if it is\n",
    "device = \"cuda\" if torch.cuda.is_available() else \"cpu\""
   ]
  },
  {
   "cell_type": "markdown",
   "id": "077c98b2-a9db-4ec8-a70f-f530e064a0cc",
   "metadata": {
    "tags": []
   },
   "source": [
    "# Load simulated data"
   ]
  },
  {
   "cell_type": "code",
   "execution_count": 93,
   "id": "2b9dc737-2c08-413f-b772-0aa5b9d38bba",
   "metadata": {
    "execution": {
     "iopub.execute_input": "2022-02-26T23:34:59.705463Z",
     "iopub.status.busy": "2022-02-26T23:34:59.705292Z",
     "iopub.status.idle": "2022-02-26T23:35:00.902140Z",
     "shell.execute_reply": "2022-02-26T23:35:00.901693Z",
     "shell.execute_reply.started": "2022-02-26T23:34:59.705444Z"
    },
    "tags": []
   },
   "outputs": [],
   "source": [
    "# Counts with genes and cells\n",
    "counts = pd.read_csv(\"simulated/truecounts.6.2000.200.1.tsv\", sep=\"\\t\")\n",
    "geneinfo = pd.read_csv(\"simulated/geneinfo.6.2000.200.1.tsv\", sep=\"\\t\")\n",
    "cellinfo = pd.read_csv(\"simulated/cellinfo.6.2000.200.1.tsv\", sep=\"\\t\")"
   ]
  },
  {
   "cell_type": "code",
   "execution_count": 94,
   "id": "10aef056-3e9d-454f-a2be-a4c146625b49",
   "metadata": {
    "execution": {
     "iopub.execute_input": "2022-02-26T23:35:00.902983Z",
     "iopub.status.busy": "2022-02-26T23:35:00.902865Z",
     "iopub.status.idle": "2022-02-26T23:35:02.100168Z",
     "shell.execute_reply": "2022-02-26T23:35:02.099764Z",
     "shell.execute_reply.started": "2022-02-26T23:35:00.902966Z"
    },
    "tags": []
   },
   "outputs": [
    {
     "data": {
      "text/plain": [
       "AnnData object with n_obs × n_vars = 2000 × 200 \n",
       "    obs: 'Cell', 'Batch', 'Group', 'ExpLibSize'\n",
       "    var: 'Gene', 'BaseGeneMean', 'OutlierFactor', 'GeneMean', 'DEFacGroup1', 'DEFacGroup2', 'DEFacGroup3', 'DEFacGroup4', 'DEFacGroup5', 'DEFacGroup6', 'n_counts'"
      ]
     },
     "execution_count": 94,
     "metadata": {},
     "output_type": "execute_result"
    }
   ],
   "source": [
    "# Make an annData object\n",
    "adata = sc.AnnData(counts.values, obs=cellinfo, var=geneinfo)\n",
    "adata.obs_names = cellinfo.Cell\n",
    "adata.var_names = geneinfo.Gene\n",
    "sc.pp.filter_genes(adata, min_counts=1)\n",
    "adata"
   ]
  },
  {
   "cell_type": "markdown",
   "id": "1bb95644-859e-44dd-bf47-6f4422aaf0ac",
   "metadata": {},
   "source": [
    "# Preprocess"
   ]
  },
  {
   "cell_type": "code",
   "execution_count": 95,
   "id": "c8dbbf39-95a0-4370-aa7e-3690c8bcf36c",
   "metadata": {
    "execution": {
     "iopub.execute_input": "2022-02-26T23:35:02.101160Z",
     "iopub.status.busy": "2022-02-26T23:35:02.101045Z",
     "iopub.status.idle": "2022-02-26T23:35:03.254871Z",
     "shell.execute_reply": "2022-02-26T23:35:03.254435Z",
     "shell.execute_reply.started": "2022-02-26T23:35:02.101144Z"
    },
    "tags": []
   },
   "outputs": [],
   "source": [
    "sc.pp.normalize_per_cell(adata, counts_per_cell_after=1e4)\n",
    "sc.pp.scale(adata, max_value=10, zero_center=True)"
   ]
  },
  {
   "cell_type": "code",
   "execution_count": 96,
   "id": "753d87e0-f2cd-47d3-a5eb-cbad6aebbb79",
   "metadata": {
    "execution": {
     "iopub.execute_input": "2022-02-26T23:35:03.255775Z",
     "iopub.status.busy": "2022-02-26T23:35:03.255658Z",
     "iopub.status.idle": "2022-02-26T23:35:34.813448Z",
     "shell.execute_reply": "2022-02-26T23:35:34.813092Z",
     "shell.execute_reply.started": "2022-02-26T23:35:03.255758Z"
    },
    "tags": []
   },
   "outputs": [
    {
     "name": "stdout",
     "output_type": "stream",
     "text": [
      "WARNING: Consider installing the package MulticoreTSNE (https://github.com/DmitryUlyanov/Multicore-TSNE). Even for n_jobs=1 this speeds up the computation considerably and might yield better converged results.\n"
     ]
    }
   ],
   "source": [
    "sc.pp.neighbors(adata, n_neighbors=30, use_rep='X')\n",
    "sc.pp.pca(adata, n_comps=50)\n",
    "sc.tl.tsne(adata)"
   ]
  },
  {
   "cell_type": "code",
   "execution_count": 97,
   "id": "0310d63e-0bf2-4424-9a13-33599753398b",
   "metadata": {
    "execution": {
     "iopub.execute_input": "2022-02-26T23:35:34.814151Z",
     "iopub.status.busy": "2022-02-26T23:35:34.813992Z",
     "iopub.status.idle": "2022-02-26T23:35:36.031871Z",
     "shell.execute_reply": "2022-02-26T23:35:36.031567Z",
     "shell.execute_reply.started": "2022-02-26T23:35:34.814133Z"
    },
    "tags": []
   },
   "outputs": [
    {
     "name": "stderr",
     "output_type": "stream",
     "text": [
      "... storing 'Batch' as categorical\n",
      "... storing 'Group' as categorical\n"
     ]
    },
    {
     "data": {
      "image/png": "[encoded data removed]",
      "text/plain": [
       "<Figure size 432x288 with 1 Axes>"
      ]
     },
     "metadata": {},
     "output_type": "display_data"
    }
   ],
   "source": [
    "sc.pl.tsne(adata, color=['Group'],size=50)"
   ]
  },
  {
   "cell_type": "markdown",
   "id": "945550e2-0b82-4cf9-8109-c3a614946fa7",
   "metadata": {
    "tags": []
   },
   "source": [
    "# Train MARS Unannotated Dataset with No New Cell-types"
   ]
  },
  {
   "cell_type": "markdown",
   "id": "99ace199-a87f-4e74-b5a7-45b183aeec0c",
   "metadata": {},
   "source": [
    "## Prep data"
   ]
  },
  {
   "cell_type": "code",
   "execution_count": 98,
   "id": "bebc818d-29f6-4b70-b133-b9d2e7263bf6",
   "metadata": {
    "execution": {
     "iopub.execute_input": "2022-02-26T23:35:36.032569Z",
     "iopub.status.busy": "2022-02-26T23:35:36.032450Z",
     "iopub.status.idle": "2022-02-26T23:35:36.810734Z",
     "shell.execute_reply": "2022-02-26T23:35:36.810386Z",
     "shell.execute_reply.started": "2022-02-26T23:35:36.032552Z"
    },
    "tags": []
   },
   "outputs": [],
   "source": [
    "# Split into traininig and test set\n",
    "from sklearn.model_selection import train_test_split\n",
    "adata.obs[\"NumGroup\"] = [int(group[-1]) for group in adata.obs[\"Group\"]]\n",
    "train_cells, test_cells = train_test_split(adata.obs_names, random_state=42, shuffle=True)"
   ]
  },
  {
   "cell_type": "code",
   "execution_count": 101,
   "id": "da6fdc5b-7e09-4f2a-9ac0-6e060c9d05dc",
   "metadata": {
    "execution": {
     "iopub.execute_input": "2022-02-26T23:35:38.450964Z",
     "iopub.status.busy": "2022-02-26T23:35:38.450848Z",
     "iopub.status.idle": "2022-02-26T23:35:39.254022Z",
     "shell.execute_reply": "2022-02-26T23:35:39.253542Z",
     "shell.execute_reply.started": "2022-02-26T23:35:38.450947Z"
    },
    "tags": []
   },
   "outputs": [
    {
     "name": "stdout",
     "output_type": "stream",
     "text": [
      "== Dataset: Found 1500 items \n",
      "== Dataset: Found 6 classes\n"
     ]
    }
   ],
   "source": [
    "# Make the train ExperimentDataset\n",
    "train_adata = adata[train_cells, :]\n",
    "train_y = np.array(train_adata.obs['NumGroup'], dtype=np.int64)\n",
    "annotated = ExperimentDataset(train_adata.X.toarray(), train_adata.obs_names, train_adata.var_names, \"train\", train_y)"
   ]
  },
  {
   "cell_type": "code",
   "execution_count": 102,
   "id": "9f36b52a-ffdf-48dc-96c3-1143334f1eaa",
   "metadata": {
    "execution": {
     "iopub.execute_input": "2022-02-26T23:35:39.254803Z",
     "iopub.status.busy": "2022-02-26T23:35:39.254687Z",
     "iopub.status.idle": "2022-02-26T23:35:40.016541Z",
     "shell.execute_reply": "2022-02-26T23:35:40.016076Z",
     "shell.execute_reply.started": "2022-02-26T23:35:39.254786Z"
    },
    "tags": []
   },
   "outputs": [
    {
     "name": "stdout",
     "output_type": "stream",
     "text": [
      "== Dataset: Found 500 items \n",
      "== Dataset: Found 6 classes\n"
     ]
    }
   ],
   "source": [
    "# Make the test ExperimentDataset\n",
    "test_adata = adata[test_cells, :]\n",
    "test_y = np.array(test_adata.obs['NumGroup'], dtype=np.int64)\n",
    "unannotated = ExperimentDataset(test_adata.X.toarray(), test_adata.obs_names, test_adata.var_names, \"test\", test_y)"
   ]
  },
  {
   "cell_type": "code",
   "execution_count": 103,
   "id": "29714218-343a-4520-a303-f1dba184808a",
   "metadata": {
    "execution": {
     "iopub.execute_input": "2022-02-26T23:35:40.017311Z",
     "iopub.status.busy": "2022-02-26T23:35:40.017195Z",
     "iopub.status.idle": "2022-02-26T23:35:41.105541Z",
     "shell.execute_reply": "2022-02-26T23:35:41.105029Z",
     "shell.execute_reply.started": "2022-02-26T23:35:40.017294Z"
    },
    "tags": []
   },
   "outputs": [
    {
     "name": "stdout",
     "output_type": "stream",
     "text": [
      "== Dataset: Found 1500 items \n",
      "== Dataset: Found 6 classes\n"
     ]
    }
   ],
   "source": [
    "# Make the pretrain ExperimentDataset which in this case is just the unlabeled data\n",
    "pretrain_data = ExperimentDataset(train_adata.X.toarray(), train_adata.obs_names, train_adata.var_names, \"train\", train_y)\n",
    "n_clusters = len(np.unique(unannotated.y))"
   ]
  },
  {
   "cell_type": "markdown",
   "id": "b27b9777-cfa2-458f-b0da-69cd825c0839",
   "metadata": {},
   "source": [
    "## Train model"
   ]
  },
  {
   "cell_type": "code",
   "execution_count": 104,
   "id": "56957b0b-a9f0-42c8-982f-7750f8597481",
   "metadata": {
    "execution": {
     "iopub.execute_input": "2022-02-26T23:35:41.106326Z",
     "iopub.status.busy": "2022-02-26T23:35:41.106208Z",
     "iopub.status.idle": "2022-02-26T23:35:42.268507Z",
     "shell.execute_reply": "2022-02-26T23:35:42.268050Z",
     "shell.execute_reply.started": "2022-02-26T23:35:41.106309Z"
    },
    "tags": []
   },
   "outputs": [],
   "source": [
    "# Set-up the parameters for training and instantiate the model\n",
    "params, unknown = get_parser().parse_known_args()\n",
    "params.cuda = True\n",
    "params.device = device\n",
    "mars = MARS(n_clusters, params, [annotated], unannotated, pretrain_data, hid_dim_1=1000, hid_dim_2=100)"
   ]
  },
  {
   "cell_type": "code",
   "execution_count": 114,
   "id": "e34ccdf2-14e4-47f3-9229-26af7dc9eb25",
   "metadata": {
    "execution": {
     "iopub.execute_input": "2022-02-26T23:38:06.688489Z",
     "iopub.status.busy": "2022-02-26T23:38:06.688312Z",
     "iopub.status.idle": "2022-02-26T23:38:10.002298Z",
     "shell.execute_reply": "2022-02-26T23:38:10.001965Z",
     "shell.execute_reply.started": "2022-02-26T23:38:06.688465Z"
    },
    "tags": []
   },
   "outputs": [
    {
     "name": "stdout",
     "output_type": "stream",
     "text": [
      "Pretraining..\n",
      "\n",
      "=== Epoch: 30 ===\n",
      "Train acc: 1.0\n"
     ]
    }
   ],
   "source": [
    "# Train MARS and predict on unlabeled cells\n",
    "adata_mars, landmarks, scores = mars.train(evaluation_mode=True, save_all_embeddings=True) # evaluation mode"
   ]
  },
  {
   "cell_type": "code",
   "execution_count": 199,
   "id": "5df2c429-f00e-4f7e-8b1b-8d84f7b6e4ae",
   "metadata": {
    "execution": {
     "iopub.execute_input": "2022-02-27T00:15:28.621165Z",
     "iopub.status.busy": "2022-02-27T00:15:28.620991Z",
     "iopub.status.idle": "2022-02-27T00:15:29.596251Z",
     "shell.execute_reply": "2022-02-27T00:15:29.595816Z",
     "shell.execute_reply.started": "2022-02-27T00:15:28.621146Z"
    },
    "tags": []
   },
   "outputs": [
    {
     "data": {
      "text/plain": [
       "(torch.Size([5, 100]), torch.Size([6, 100]))"
      ]
     },
     "execution_count": 199,
     "metadata": {},
     "output_type": "execute_result"
    }
   ],
   "source": [
    "landmarks[0].shape, landmarks[1].shape"
   ]
  },
  {
   "cell_type": "code",
   "execution_count": 194,
   "id": "32b497da-9104-4fed-83b4-3a649232bb66",
   "metadata": {
    "execution": {
     "iopub.execute_input": "2022-02-27T00:14:24.620141Z",
     "iopub.status.busy": "2022-02-27T00:14:24.619978Z",
     "iopub.status.idle": "2022-02-27T00:14:25.803348Z",
     "shell.execute_reply": "2022-02-27T00:14:25.803053Z",
     "shell.execute_reply.started": "2022-02-27T00:14:24.620122Z"
    },
    "tags": []
   },
   "outputs": [
    {
     "data": {
      "text/plain": [
       "{'recall': 0.9931773879142299,\n",
       " 'adj_mi': 0.943439029364968,\n",
       " 'nmi': 0.9519401755556327,\n",
       " 'adj_rand': 0.9478146595944511,\n",
       " 'precision': 0.9723127805339002,\n",
       " 'accuracy': 0.9815059445178336,\n",
       " 'f1_score': 0.982024659312135}"
      ]
     },
     "execution_count": 194,
     "metadata": {},
     "output_type": "execute_result"
    }
   ],
   "source": [
    "scores"
   ]
  },
  {
   "cell_type": "markdown",
   "id": "0fab7e30-9487-4731-ae2f-302d6b6ad73c",
   "metadata": {},
   "source": [
    "## Visualization of embedding and labeling\n",
    "Visualize the results"
   ]
  },
  {
   "cell_type": "code",
   "execution_count": 124,
   "id": "1397a1bf-89fd-420e-a66e-39086eb794df",
   "metadata": {
    "execution": {
     "iopub.execute_input": "2022-02-26T23:40:22.620977Z",
     "iopub.status.busy": "2022-02-26T23:40:22.620809Z",
     "iopub.status.idle": "2022-02-26T23:40:28.377696Z",
     "shell.execute_reply": "2022-02-26T23:40:28.377384Z",
     "shell.execute_reply.started": "2022-02-26T23:40:22.620958Z"
    },
    "tags": []
   },
   "outputs": [
    {
     "name": "stderr",
     "output_type": "stream",
     "text": [
      "/cellar/users/aklie/opt/miniconda3/envs/mars/lib/python3.7/site-packages/umap/spectral.py:229: UserWarning: Embedding a total of 6 separate connected components using meta-embedding (experimental)\n",
      "  n_components\n"
     ]
    }
   ],
   "source": [
    "sc.pp.neighbors(adata_mars, n_neighbors=30, use_rep=\"MARS_embedding\")\n",
    "sc.tl.umap(adata_mars)"
   ]
  },
  {
   "cell_type": "code",
   "execution_count": 125,
   "id": "aef65b6c-642c-47a4-a973-c9af77e2092f",
   "metadata": {
    "execution": {
     "iopub.execute_input": "2022-02-26T23:40:28.378419Z",
     "iopub.status.busy": "2022-02-26T23:40:28.378309Z",
     "iopub.status.idle": "2022-02-26T23:40:30.083079Z",
     "shell.execute_reply": "2022-02-26T23:40:30.082768Z",
     "shell.execute_reply.started": "2022-02-26T23:40:28.378402Z"
    },
    "tags": []
   },
   "outputs": [
    {
     "name": "stderr",
     "output_type": "stream",
     "text": [
      "... storing 'MARS_labels' as categorical\n"
     ]
    },
    {
     "data": {
      "image/png": "[encoded data removed]",
      "text/plain": [
       "<Figure size 989.28x288 with 2 Axes>"
      ]
     },
     "metadata": {},
     "output_type": "display_data"
    }
   ],
   "source": [
    "sc.pl.umap(adata_mars, color=[\"truth_labels\", \"MARS_labels\"])"
   ]
  },
  {
   "cell_type": "markdown",
   "id": "e82e2b88-d460-4a9a-9abb-fc87ffdc5e3a",
   "metadata": {},
   "source": [
    "# Train MARS Unannotated Dataset with Single New Cell-type"
   ]
  },
  {
   "cell_type": "markdown",
   "id": "c830e0dc-aadc-42a4-8564-aec25b81b2f3",
   "metadata": {},
   "source": [
    "## Prep data"
   ]
  },
  {
   "cell_type": "code",
   "execution_count": 170,
   "id": "a61739eb-4919-4eac-aea4-96ed8fcad485",
   "metadata": {
    "execution": {
     "iopub.execute_input": "2022-02-27T00:04:06.619712Z",
     "iopub.status.busy": "2022-02-27T00:04:06.619546Z",
     "iopub.status.idle": "2022-02-27T00:04:07.161212Z",
     "shell.execute_reply": "2022-02-27T00:04:07.160759Z",
     "shell.execute_reply.started": "2022-02-27T00:04:06.619693Z"
    },
    "tags": []
   },
   "outputs": [],
   "source": [
    "# Holdout group 6\n",
    "group6_cells = adata.obs_names[adata.obs[\"NumGroup\"] == 6]\n",
    "other_cells = adata.obs_names[adata.obs[\"NumGroup\"] != 6]"
   ]
  },
  {
   "cell_type": "code",
   "execution_count": 171,
   "id": "44898764-a7cb-414b-823e-85c062e2694e",
   "metadata": {
    "execution": {
     "iopub.execute_input": "2022-02-27T00:04:08.620245Z",
     "iopub.status.busy": "2022-02-27T00:04:08.620101Z",
     "iopub.status.idle": "2022-02-27T00:04:09.210837Z",
     "shell.execute_reply": "2022-02-27T00:04:09.210394Z",
     "shell.execute_reply.started": "2022-02-27T00:04:08.620227Z"
    },
    "tags": []
   },
   "outputs": [],
   "source": [
    "# Split into traininig and test set\n",
    "train_cells, test_cells = train_test_split(other_cells, random_state=42, shuffle=True)\n",
    "test_cells = test_cells.append(group6_cells)"
   ]
  },
  {
   "cell_type": "code",
   "execution_count": 172,
   "id": "f2bee26a-9ff6-444c-9cd0-cc615301ef51",
   "metadata": {
    "execution": {
     "iopub.execute_input": "2022-02-27T00:04:09.211680Z",
     "iopub.status.busy": "2022-02-27T00:04:09.211561Z",
     "iopub.status.idle": "2022-02-27T00:04:09.763831Z",
     "shell.execute_reply": "2022-02-27T00:04:09.763343Z",
     "shell.execute_reply.started": "2022-02-27T00:04:09.211659Z"
    },
    "tags": []
   },
   "outputs": [
    {
     "name": "stdout",
     "output_type": "stream",
     "text": [
      "== Dataset: Found 1243 items \n",
      "== Dataset: Found 5 classes\n"
     ]
    }
   ],
   "source": [
    "# Make the train ExperimentDataset\n",
    "train_adata = adata[train_cells, :]\n",
    "train_y = np.array(train_adata.obs['NumGroup'], dtype=np.int64)\n",
    "annotated = ExperimentDataset(train_adata.X.toarray(), train_adata.obs_names, train_adata.var_names, \"train\", train_y)"
   ]
  },
  {
   "cell_type": "code",
   "execution_count": 181,
   "id": "f7d11331-3185-4a8e-8641-b301204ff5c0",
   "metadata": {
    "execution": {
     "iopub.execute_input": "2022-02-27T00:06:27.619361Z",
     "iopub.status.busy": "2022-02-27T00:06:27.619198Z",
     "iopub.status.idle": "2022-02-27T00:06:28.256474Z",
     "shell.execute_reply": "2022-02-27T00:06:28.255978Z",
     "shell.execute_reply.started": "2022-02-27T00:06:27.619343Z"
    },
    "tags": []
   },
   "outputs": [
    {
     "name": "stdout",
     "output_type": "stream",
     "text": [
      "== Dataset: Found 757 items \n",
      "== Dataset: Found 6 classes\n"
     ]
    }
   ],
   "source": [
    "# Make the test ExperimentDataset\n",
    "test_adata = adata[test_cells, :]\n",
    "test_y = np.array(test_adata.obs['NumGroup'], dtype=np.int64)\n",
    "unannotated = ExperimentDataset(test_adata.X.toarray(), test_adata.obs_names, test_adata.var_names, \"test\", test_y)\n",
    "n_clusters = len(np.unique(unannotated.y))"
   ]
  },
  {
   "cell_type": "markdown",
   "id": "724a082a-f753-47b2-9fce-4e9f43b7fd95",
   "metadata": {},
   "source": [
    "## Train model"
   ]
  },
  {
   "cell_type": "code",
   "execution_count": 182,
   "id": "b7a3269f-2781-4a9a-b1d4-275b1a05140c",
   "metadata": {
    "execution": {
     "iopub.execute_input": "2022-02-27T00:06:28.257353Z",
     "iopub.status.busy": "2022-02-27T00:06:28.257242Z",
     "iopub.status.idle": "2022-02-27T00:06:28.869828Z",
     "shell.execute_reply": "2022-02-27T00:06:28.869344Z",
     "shell.execute_reply.started": "2022-02-27T00:06:28.257338Z"
    },
    "tags": []
   },
   "outputs": [],
   "source": [
    "# Set-up the parameters for training and instantiate the model\n",
    "params, unknown = get_parser().parse_known_args()\n",
    "params.cuda = True\n",
    "params.device = device\n",
    "mars = MARS(n_clusters, params, [annotated], unannotated, hid_dim_1=1000, hid_dim_2=100)"
   ]
  },
  {
   "cell_type": "code",
   "execution_count": 190,
   "id": "5bcee0a2-11ff-447a-a9ec-ea6022edf71d",
   "metadata": {
    "execution": {
     "iopub.execute_input": "2022-02-27T00:12:04.620130Z",
     "iopub.status.busy": "2022-02-27T00:12:04.619962Z",
     "iopub.status.idle": "2022-02-27T00:12:07.453362Z",
     "shell.execute_reply": "2022-02-27T00:12:07.452914Z",
     "shell.execute_reply.started": "2022-02-27T00:12:04.620111Z"
    },
    "tags": []
   },
   "outputs": [
    {
     "name": "stdout",
     "output_type": "stream",
     "text": [
      "Pretraining..\n",
      "\n",
      "=== Epoch: 30 ===\n",
      "Train acc: 1.0\n"
     ]
    }
   ],
   "source": [
    "# Train MARS and predict on unlabeled cells\n",
    "adata_mars, landmarks, scores = mars.train(evaluation_mode=True, save_all_embeddings=False) # evaluation mode"
   ]
  },
  {
   "cell_type": "code",
   "execution_count": 191,
   "id": "913a8c62-f088-4a03-b991-f68f52b8a4f6",
   "metadata": {
    "execution": {
     "iopub.execute_input": "2022-02-27T00:12:08.620181Z",
     "iopub.status.busy": "2022-02-27T00:12:08.620030Z",
     "iopub.status.idle": "2022-02-27T00:12:09.334194Z",
     "shell.execute_reply": "2022-02-27T00:12:09.333805Z",
     "shell.execute_reply.started": "2022-02-27T00:12:08.620163Z"
    },
    "tags": []
   },
   "outputs": [
    {
     "data": {
      "text/plain": [
       "{'recall': 0.9931773879142299,\n",
       " 'adj_mi': 0.943439029364968,\n",
       " 'nmi': 0.9519401755556327,\n",
       " 'adj_rand': 0.9478146595944511,\n",
       " 'precision': 0.9723127805339002,\n",
       " 'accuracy': 0.9815059445178336,\n",
       " 'f1_score': 0.982024659312135}"
      ]
     },
     "execution_count": 191,
     "metadata": {},
     "output_type": "execute_result"
    }
   ],
   "source": [
    "scores"
   ]
  },
  {
   "cell_type": "markdown",
   "id": "07ed9ba2-5fad-496d-88fb-3dbc731d5ee7",
   "metadata": {},
   "source": [
    "## Visualization of embedding and labeling"
   ]
  },
  {
   "cell_type": "code",
   "execution_count": 192,
   "id": "0ffe18cc-5622-48ec-8150-213182a8bd0d",
   "metadata": {
    "execution": {
     "iopub.execute_input": "2022-02-27T00:12:09.335029Z",
     "iopub.status.busy": "2022-02-27T00:12:09.334918Z",
     "iopub.status.idle": "2022-02-27T00:12:11.553245Z",
     "shell.execute_reply": "2022-02-27T00:12:11.552800Z",
     "shell.execute_reply.started": "2022-02-27T00:12:09.335013Z"
    },
    "tags": []
   },
   "outputs": [
    {
     "name": "stderr",
     "output_type": "stream",
     "text": [
      "/cellar/users/aklie/opt/miniconda3/envs/mars/lib/python3.7/site-packages/umap/spectral.py:229: UserWarning: Embedding a total of 4 separate connected components using meta-embedding (experimental)\n",
      "  n_components\n"
     ]
    }
   ],
   "source": [
    "sc.pp.neighbors(adata_mars, n_neighbors=30, use_rep=\"MARS_embedding\")\n",
    "sc.tl.umap(adata_mars)"
   ]
  },
  {
   "cell_type": "code",
   "execution_count": 193,
   "id": "3e668990-959b-42de-9d14-3dd59cdba1cf",
   "metadata": {
    "execution": {
     "iopub.execute_input": "2022-02-27T00:12:11.554154Z",
     "iopub.status.busy": "2022-02-27T00:12:11.554039Z",
     "iopub.status.idle": "2022-02-27T00:12:12.732820Z",
     "shell.execute_reply": "2022-02-27T00:12:12.732520Z",
     "shell.execute_reply.started": "2022-02-27T00:12:11.554137Z"
    },
    "tags": []
   },
   "outputs": [
    {
     "data": {
      "image/png": "[encoded data removed]",
      "text/plain": [
       "<Figure size 989.28x288 with 2 Axes>"
      ]
     },
     "metadata": {},
     "output_type": "display_data"
    }
   ],
   "source": [
    "sc.pl.umap(adata_mars, color=[\"truth_labels\", \"MARS_labels\"])"
   ]
  },
  {
   "cell_type": "markdown",
   "id": "ed7ffd88-94c2-45f2-ad87-9f255e8073ff",
   "metadata": {},
   "source": [
    "# References"
   ]
  },
  {
   "cell_type": "markdown",
   "id": "66d0cc40-d8ed-47c4-877a-48d128de715b",
   "metadata": {},
   "source": [
    "1. [MARS Paper](https://www.nature.com/articles/s41592-020-00979-3)\n",
    "2. [Stanford MARS website](http://snap.stanford.edu/mars/)\n",
    "3. [MARS Github](https://github.com/snap-stanford/mars)"
   ]
  }
 ],
 "metadata": {
  "kernelspec": {
   "display_name": "Python 3 MARS",
   "language": "python",
   "name": "mars"
  },
  "language_info": {
   "codemirror_mode": {
    "name": "ipython",
    "version": 3
   },
   "file_extension": ".py",
   "mimetype": "text/x-python",
   "name": "python",
   "nbconvert_exporter": "python",
   "pygments_lexer": "ipython3",
   "version": "3.7.12"
  }
 },
 "nbformat": 4,
 "nbformat_minor": 5
}
